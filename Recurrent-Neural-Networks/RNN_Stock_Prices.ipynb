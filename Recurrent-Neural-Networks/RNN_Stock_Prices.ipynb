{
 "cells": [
  {
   "cell_type": "markdown",
   "id": "abcf5436",
   "metadata": {},
   "source": [
    "## An LSTM Recurrent Neural Network to capture downward or upward trend in google stock prices."
   ]
  },
  {
   "cell_type": "markdown",
   "id": "a3193398",
   "metadata": {},
   "source": [
    "## PART 1 - DATA PREPROCESSING\n",
    "\n",
    "### Importing the Libraries"
   ]
  },
  {
   "cell_type": "code",
   "execution_count": 2,
   "id": "f4b4d9b4",
   "metadata": {},
   "outputs": [],
   "source": [
    "import numpy as np\n",
    "import pandas as pd\n",
    "import matplotlib.pyplot as plt"
   ]
  },
  {
   "cell_type": "markdown",
   "id": "35203a36",
   "metadata": {},
   "source": [
    "### Importing the Training Set as a dataFrame"
   ]
  },
  {
   "cell_type": "code",
   "execution_count": 3,
   "id": "9b1a8e39",
   "metadata": {},
   "outputs": [
    {
     "data": {
      "text/plain": [
       "array([[325.25],\n",
       "       [331.27],\n",
       "       [329.83],\n",
       "       ...,\n",
       "       [793.7 ],\n",
       "       [783.33],\n",
       "       [782.75]])"
      ]
     },
     "execution_count": 3,
     "metadata": {},
     "output_type": "execute_result"
    }
   ],
   "source": [
    "dataset_train = pd.read_csv(\"Google_Stock_Price_Train.csv\")\n",
    "\n",
    "# Conversion to 2D - Numpy array is mandatory.\n",
    "training_set = dataset_train.iloc[:, 1:2].values\n",
    "\n",
    "training_set"
   ]
  },
  {
   "cell_type": "markdown",
   "id": "0cada7df",
   "metadata": {},
   "source": [
    "### Feature Scaling - Better to apply Normalization in RNNs"
   ]
  },
  {
   "cell_type": "code",
   "execution_count": 4,
   "id": "68d55c33",
   "metadata": {},
   "outputs": [
    {
     "name": "stdout",
     "output_type": "stream",
     "text": [
      "[[0.08581368]\n",
      " [0.09701243]\n",
      " [0.09433366]\n",
      " ...\n",
      " [0.95725128]\n",
      " [0.93796041]\n",
      " [0.93688146]]\n"
     ]
    }
   ],
   "source": [
    "from sklearn.preprocessing import MinMaxScaler\n",
    "\n",
    "sc = MinMaxScaler(feature_range=(0, 1))\n",
    "training_set_scaled = sc.fit_transform(training_set)\n",
    "\n",
    "print(training_set_scaled)"
   ]
  },
  {
   "cell_type": "markdown",
   "id": "64d005ce",
   "metadata": {},
   "source": [
    "### Create a Data Structure with 60 Time Steps and 1 Output"
   ]
  },
  {
   "cell_type": "code",
   "execution_count": 5,
   "id": "4d44a7e5",
   "metadata": {},
   "outputs": [],
   "source": [
    "X_train = list()\n",
    "y_train = list()\n",
    "for i in range(60, 1258):\n",
    "    # Append previous 60 stock prices\n",
    "    X_train.append(training_set_scaled[i-60:i, 0])\n",
    "    y_train.append(training_set_scaled[i, 0])\n",
    "X_train, y_train = np.array(X_train), np.array(y_train)"
   ]
  },
  {
   "cell_type": "code",
   "execution_count": 6,
   "id": "0bf05473",
   "metadata": {},
   "outputs": [
    {
     "name": "stdout",
     "output_type": "stream",
     "text": [
      "[[0.08581368 0.09701243 0.09433366 ... 0.07846566 0.08034452 0.08497656]\n",
      " [0.09701243 0.09433366 0.09156187 ... 0.08034452 0.08497656 0.08627874]\n",
      " [0.09433366 0.09156187 0.07984225 ... 0.08497656 0.08627874 0.08471612]\n",
      " ...\n",
      " [0.92106928 0.92438053 0.93048218 ... 0.95475854 0.95204256 0.95163331]\n",
      " [0.92438053 0.93048218 0.9299055  ... 0.95204256 0.95163331 0.95725128]\n",
      " [0.93048218 0.9299055  0.93113327 ... 0.95163331 0.95725128 0.93796041]]\n"
     ]
    }
   ],
   "source": [
    "print(X_train)"
   ]
  },
  {
   "cell_type": "code",
   "execution_count": 7,
   "id": "7d099d97",
   "metadata": {},
   "outputs": [
    {
     "name": "stdout",
     "output_type": "stream",
     "text": [
      "[0.08627874 0.08471612 0.07454052 ... 0.95725128 0.93796041 0.93688146]\n"
     ]
    }
   ],
   "source": [
    "print(y_train)"
   ]
  },
  {
   "cell_type": "markdown",
   "id": "cac25c7a",
   "metadata": {},
   "source": [
    "### Reshape X_train to add dimension to a numpy array"
   ]
  },
  {
   "cell_type": "code",
   "execution_count": 8,
   "id": "93f36155",
   "metadata": {},
   "outputs": [
    {
     "name": "stdout",
     "output_type": "stream",
     "text": [
      "[[[0.08581368]\n",
      "  [0.09701243]\n",
      "  [0.09433366]\n",
      "  ...\n",
      "  [0.07846566]\n",
      "  [0.08034452]\n",
      "  [0.08497656]]\n",
      "\n",
      " [[0.09701243]\n",
      "  [0.09433366]\n",
      "  [0.09156187]\n",
      "  ...\n",
      "  [0.08034452]\n",
      "  [0.08497656]\n",
      "  [0.08627874]]\n",
      "\n",
      " [[0.09433366]\n",
      "  [0.09156187]\n",
      "  [0.07984225]\n",
      "  ...\n",
      "  [0.08497656]\n",
      "  [0.08627874]\n",
      "  [0.08471612]]\n",
      "\n",
      " ...\n",
      "\n",
      " [[0.92106928]\n",
      "  [0.92438053]\n",
      "  [0.93048218]\n",
      "  ...\n",
      "  [0.95475854]\n",
      "  [0.95204256]\n",
      "  [0.95163331]]\n",
      "\n",
      " [[0.92438053]\n",
      "  [0.93048218]\n",
      "  [0.9299055 ]\n",
      "  ...\n",
      "  [0.95204256]\n",
      "  [0.95163331]\n",
      "  [0.95725128]]\n",
      "\n",
      " [[0.93048218]\n",
      "  [0.9299055 ]\n",
      "  [0.93113327]\n",
      "  ...\n",
      "  [0.95163331]\n",
      "  [0.95725128]\n",
      "  [0.93796041]]]\n"
     ]
    }
   ],
   "source": [
    "X_train = np.reshape(X_train, (X_train.shape[0], X_train.shape[1], 1))\n",
    "\n",
    "print(X_train)"
   ]
  },
  {
   "cell_type": "markdown",
   "id": "91cbba7c",
   "metadata": {},
   "source": [
    "## PART 2 - BUILDING THE STACKED LSTM - RNN"
   ]
  },
  {
   "cell_type": "markdown",
   "id": "0f180554",
   "metadata": {},
   "source": [
    "### Import the Keras Libraries"
   ]
  },
  {
   "cell_type": "code",
   "execution_count": 9,
   "id": "95a49354",
   "metadata": {},
   "outputs": [],
   "source": [
    "from keras.models import Sequential\n",
    "from keras.layers import Dense, LSTM, Dropout"
   ]
  },
  {
   "cell_type": "markdown",
   "id": "2a3ce9c5",
   "metadata": {},
   "source": [
    "### Initialising the RNN - regressor because we are predicting continuous values"
   ]
  },
  {
   "cell_type": "code",
   "execution_count": 10,
   "id": "521d475b",
   "metadata": {},
   "outputs": [],
   "source": [
    "regressor = Sequential()"
   ]
  },
  {
   "cell_type": "markdown",
   "id": "428e6dc9",
   "metadata": {},
   "source": [
    "### Add LSTM Layer"
   ]
  },
  {
   "cell_type": "code",
   "execution_count": 11,
   "id": "6d68b032",
   "metadata": {},
   "outputs": [],
   "source": [
    "regressor.add(LSTM(units = 50, return_sequences = True, input_shape = (X_train.shape[1], 1)))"
   ]
  },
  {
   "cell_type": "markdown",
   "id": "44a7fdd4",
   "metadata": {},
   "source": [
    "### Dropout regularisation is applied to avoid overfitting - rate at neurons you want to drop in the regularisation (20 %)"
   ]
  },
  {
   "cell_type": "code",
   "execution_count": 12,
   "id": "f9c006fd",
   "metadata": {},
   "outputs": [],
   "source": [
    "regressor.add(Dropout(0.2))"
   ]
  },
  {
   "cell_type": "markdown",
   "id": "cd94c179",
   "metadata": {},
   "source": [
    "### For the following layers, no need to add input_shape parameter.\n",
    "\n",
    "### Adding a second LSTM layer and some Dropout regularisation"
   ]
  },
  {
   "cell_type": "code",
   "execution_count": 13,
   "id": "951fbcab",
   "metadata": {},
   "outputs": [],
   "source": [
    "regressor.add(LSTM(units = 50, return_sequences = True))\n",
    "regressor.add(Dropout(0.2))\n"
   ]
  },
  {
   "cell_type": "markdown",
   "id": "723ddb0e",
   "metadata": {},
   "source": [
    "### Adding a third LSTM layer and some Dropout regularisation"
   ]
  },
  {
   "cell_type": "code",
   "execution_count": 14,
   "id": "7652cc41",
   "metadata": {},
   "outputs": [],
   "source": [
    "regressor.add(LSTM(units = 50, return_sequences = True))\n",
    "regressor.add(Dropout(0.2))"
   ]
  },
  {
   "cell_type": "markdown",
   "id": "ce884dd3",
   "metadata": {},
   "source": [
    "### Adding a fourth and final LSTM layer and some Dropout regularisation"
   ]
  },
  {
   "cell_type": "code",
   "execution_count": 15,
   "id": "f4978f81",
   "metadata": {},
   "outputs": [],
   "source": [
    "regressor.add(LSTM(units = 50))\n",
    "regressor.add(Dropout(0.2))"
   ]
  },
  {
   "cell_type": "markdown",
   "id": "5f8b69fe",
   "metadata": {},
   "source": [
    "### Adding the output layer"
   ]
  },
  {
   "cell_type": "code",
   "execution_count": 16,
   "id": "7c2a6ab5",
   "metadata": {},
   "outputs": [],
   "source": [
    "regressor.add(Dense(units = 1))"
   ]
  },
  {
   "cell_type": "markdown",
   "id": "7128a0ac",
   "metadata": {},
   "source": [
    "### Compiling the LSTM Stacked - RNN"
   ]
  },
  {
   "cell_type": "code",
   "execution_count": 17,
   "id": "25ca3b4e",
   "metadata": {},
   "outputs": [],
   "source": [
    "regressor.compile(optimizer = \"adam\", loss = \"mean_squared_error\")"
   ]
  },
  {
   "cell_type": "markdown",
   "id": "b3d194ba",
   "metadata": {},
   "source": [
    "### Fitting the RNN to the Training Set"
   ]
  },
  {
   "cell_type": "code",
   "execution_count": 18,
   "id": "8e0a3566",
   "metadata": {},
   "outputs": [
    {
     "name": "stdout",
     "output_type": "stream",
     "text": [
      "Epoch 1/100\n",
      "38/38 [==============================] - 75s 123ms/step - loss: 0.1317\n",
      "Epoch 2/100\n",
      "38/38 [==============================] - 6s 148ms/step - loss: 0.0069\n",
      "Epoch 3/100\n",
      "38/38 [==============================] - 6s 150ms/step - loss: 0.0060\n",
      "Epoch 4/100\n",
      "38/38 [==============================] - 6s 151ms/step - loss: 0.0052\n",
      "Epoch 5/100\n",
      "38/38 [==============================] - 6s 155ms/step - loss: 0.0066\n",
      "Epoch 6/100\n",
      "38/38 [==============================] - 6s 154ms/step - loss: 0.0050\n",
      "Epoch 7/100\n",
      "38/38 [==============================] - 6s 153ms/step - loss: 0.0047\n",
      "Epoch 8/100\n",
      "38/38 [==============================] - 6s 150ms/step - loss: 0.0048\n",
      "Epoch 9/100\n",
      "38/38 [==============================] - 6s 152ms/step - loss: 0.0046\n",
      "Epoch 10/100\n",
      "38/38 [==============================] - 6s 152ms/step - loss: 0.0046\n",
      "Epoch 11/100\n",
      "38/38 [==============================] - 6s 160ms/step - loss: 0.0044 0s - loss: 0.00\n",
      "Epoch 12/100\n",
      "38/38 [==============================] - 6s 154ms/step - loss: 0.0039\n",
      "Epoch 13/100\n",
      "38/38 [==============================] - 6s 162ms/step - loss: 0.0041\n",
      "Epoch 14/100\n",
      "38/38 [==============================] - 5s 122ms/step - loss: 0.0038\n",
      "Epoch 15/100\n",
      "38/38 [==============================] - 6s 146ms/step - loss: 0.0033\n",
      "Epoch 16/100\n",
      "38/38 [==============================] - 6s 152ms/step - loss: 0.0046\n",
      "Epoch 17/100\n",
      "38/38 [==============================] - 6s 170ms/step - loss: 0.0042\n",
      "Epoch 18/100\n",
      "38/38 [==============================] - 6s 157ms/step - loss: 0.0037\n",
      "Epoch 19/100\n",
      "38/38 [==============================] - 6s 150ms/step - loss: 0.0038\n",
      "Epoch 20/100\n",
      "38/38 [==============================] - 6s 149ms/step - loss: 0.0033\n",
      "Epoch 21/100\n",
      "38/38 [==============================] - 6s 158ms/step - loss: 0.0036\n",
      "Epoch 22/100\n",
      "38/38 [==============================] - 6s 158ms/step - loss: 0.0032\n",
      "Epoch 23/100\n",
      "38/38 [==============================] - 6s 151ms/step - loss: 0.0031\n",
      "Epoch 24/100\n",
      "38/38 [==============================] - 6s 153ms/step - loss: 0.0033\n",
      "Epoch 25/100\n",
      "38/38 [==============================] - 6s 158ms/step - loss: 0.0033\n",
      "Epoch 26/100\n",
      "38/38 [==============================] - 6s 152ms/step - loss: 0.0035\n",
      "Epoch 27/100\n",
      "38/38 [==============================] - 5s 125ms/step - loss: 0.0035\n",
      "Epoch 28/100\n",
      "38/38 [==============================] - 6s 152ms/step - loss: 0.0035\n",
      "Epoch 29/100\n",
      "38/38 [==============================] - 6s 162ms/step - loss: 0.0034\n",
      "Epoch 30/100\n",
      "38/38 [==============================] - 6s 159ms/step - loss: 0.0030\n",
      "Epoch 31/100\n",
      "38/38 [==============================] - 7s 172ms/step - loss: 0.0035\n",
      "Epoch 32/100\n",
      "38/38 [==============================] - 6s 159ms/step - loss: 0.0034\n",
      "Epoch 33/100\n",
      "38/38 [==============================] - 6s 153ms/step - loss: 0.0034\n",
      "Epoch 34/100\n",
      "38/38 [==============================] - 6s 147ms/step - loss: 0.0031\n",
      "Epoch 35/100\n",
      "38/38 [==============================] - 6s 147ms/step - loss: 0.0030\n",
      "Epoch 36/100\n",
      "38/38 [==============================] - 6s 148ms/step - loss: 0.0028\n",
      "Epoch 37/100\n",
      "38/38 [==============================] - 6s 150ms/step - loss: 0.0032\n",
      "Epoch 38/100\n",
      "38/38 [==============================] - 6s 150ms/step - loss: 0.0025\n",
      "Epoch 39/100\n",
      "38/38 [==============================] - 6s 146ms/step - loss: 0.0034\n",
      "Epoch 40/100\n",
      "38/38 [==============================] - 5s 127ms/step - loss: 0.0026\n",
      "Epoch 41/100\n",
      "38/38 [==============================] - 5s 138ms/step - loss: 0.0027\n",
      "Epoch 42/100\n",
      "38/38 [==============================] - 6s 146ms/step - loss: 0.0030\n",
      "Epoch 43/100\n",
      "38/38 [==============================] - 6s 146ms/step - loss: 0.0035\n",
      "Epoch 44/100\n",
      "38/38 [==============================] - 6s 152ms/step - loss: 0.0023\n",
      "Epoch 45/100\n",
      "38/38 [==============================] - 6s 146ms/step - loss: 0.0026\n",
      "Epoch 46/100\n",
      "38/38 [==============================] - 6s 145ms/step - loss: 0.0024\n",
      "Epoch 47/100\n",
      "38/38 [==============================] - 6s 147ms/step - loss: 0.0028\n",
      "Epoch 48/100\n",
      "38/38 [==============================] - 6s 153ms/step - loss: 0.0032\n",
      "Epoch 49/100\n",
      "38/38 [==============================] - 6s 149ms/step - loss: 0.0024\n",
      "Epoch 50/100\n",
      "38/38 [==============================] - 6s 147ms/step - loss: 0.0025\n",
      "Epoch 51/100\n",
      "38/38 [==============================] - 6s 149ms/step - loss: 0.0026\n",
      "Epoch 52/100\n",
      "38/38 [==============================] - 6s 151ms/step - loss: 0.0025\n",
      "Epoch 53/100\n",
      "38/38 [==============================] - 5s 127ms/step - loss: 0.0026\n",
      "Epoch 54/100\n",
      "38/38 [==============================] - 5s 142ms/step - loss: 0.0022\n",
      "Epoch 55/100\n",
      "38/38 [==============================] - 6s 148ms/step - loss: 0.0022\n",
      "Epoch 56/100\n",
      "38/38 [==============================] - 6s 148ms/step - loss: 0.0022\n",
      "Epoch 57/100\n",
      "38/38 [==============================] - 6s 150ms/step - loss: 0.0022\n",
      "Epoch 58/100\n",
      "38/38 [==============================] - 6s 149ms/step - loss: 0.0024\n",
      "Epoch 59/100\n",
      "38/38 [==============================] - 6s 151ms/step - loss: 0.0023\n",
      "Epoch 60/100\n",
      "38/38 [==============================] - 6s 160ms/step - loss: 0.0021\n",
      "Epoch 61/100\n",
      "38/38 [==============================] - 6s 150ms/step - loss: 0.0021\n",
      "Epoch 62/100\n",
      "38/38 [==============================] - 6s 151ms/step - loss: 0.0021 0s - loss: \n",
      "Epoch 63/100\n",
      "38/38 [==============================] - 6s 150ms/step - loss: 0.0022\n",
      "Epoch 64/100\n",
      "38/38 [==============================] - 6s 147ms/step - loss: 0.0023\n",
      "Epoch 65/100\n",
      "38/38 [==============================] - 6s 152ms/step - loss: 0.0022\n",
      "Epoch 66/100\n",
      "38/38 [==============================] - 5s 134ms/step - loss: 0.0019\n",
      "Epoch 67/100\n",
      "38/38 [==============================] - 5s 135ms/step - loss: 0.0020\n",
      "Epoch 68/100\n",
      "38/38 [==============================] - 6s 149ms/step - loss: 0.0022\n",
      "Epoch 69/100\n",
      "38/38 [==============================] - 6s 155ms/step - loss: 0.0021 \n",
      "Epoch 70/100\n",
      "38/38 [==============================] - 6s 151ms/step - loss: 0.0018\n",
      "Epoch 71/100\n",
      "38/38 [==============================] - 6s 149ms/step - loss: 0.0021\n",
      "Epoch 72/100\n",
      "38/38 [==============================] - 6s 150ms/step - loss: 0.0023\n",
      "Epoch 73/100\n",
      "38/38 [==============================] - 6s 148ms/step - loss: 0.0020\n",
      "Epoch 74/100\n",
      "38/38 [==============================] - 6s 150ms/step - loss: 0.0018\n",
      "Epoch 75/100\n",
      "38/38 [==============================] - 6s 152ms/step - loss: 0.0019\n",
      "Epoch 76/100\n",
      "38/38 [==============================] - 6s 149ms/step - loss: 0.0019\n",
      "Epoch 77/100\n",
      "38/38 [==============================] - 6s 149ms/step - loss: 0.0018\n",
      "Epoch 78/100\n",
      "38/38 [==============================] - 6s 148ms/step - loss: 0.0018\n",
      "Epoch 79/100\n",
      "38/38 [==============================] - 5s 136ms/step - loss: 0.0019\n",
      "Epoch 80/100\n",
      "38/38 [==============================] - ETA: 0s - loss: 0.001 - 5s 136ms/step - loss: 0.0016\n",
      "Epoch 81/100\n",
      "38/38 [==============================] - 6s 148ms/step - loss: 0.0017\n",
      "Epoch 82/100\n",
      "38/38 [==============================] - 6s 152ms/step - loss: 0.0019\n",
      "Epoch 83/100\n",
      "38/38 [==============================] - 6s 152ms/step - loss: 0.0016\n",
      "Epoch 84/100\n",
      "38/38 [==============================] - 6s 153ms/step - loss: 0.0017\n",
      "Epoch 85/100\n",
      "38/38 [==============================] - 6s 151ms/step - loss: 0.0017\n",
      "Epoch 86/100\n",
      "38/38 [==============================] - 6s 149ms/step - loss: 0.0017\n",
      "Epoch 87/100\n",
      "38/38 [==============================] - 6s 152ms/step - loss: 0.0019\n",
      "Epoch 88/100\n",
      "38/38 [==============================] - 6s 153ms/step - loss: 0.0014\n",
      "Epoch 89/100\n",
      "38/38 [==============================] - 6s 151ms/step - loss: 0.0019\n",
      "Epoch 90/100\n",
      "38/38 [==============================] - 6s 149ms/step - loss: 0.0018\n",
      "Epoch 91/100\n",
      "38/38 [==============================] - 6s 150ms/step - loss: 0.0017\n",
      "Epoch 92/100\n",
      "38/38 [==============================] - 5s 137ms/step - loss: 0.0014\n",
      "Epoch 93/100\n",
      "38/38 [==============================] - 5s 134ms/step - loss: 0.0016\n",
      "Epoch 94/100\n",
      "38/38 [==============================] - 6s 150ms/step - loss: 0.0014\n",
      "Epoch 95/100\n",
      "38/38 [==============================] - 6s 148ms/step - loss: 0.0016\n",
      "Epoch 96/100\n",
      "38/38 [==============================] - 6s 152ms/step - loss: 0.0017\n",
      "Epoch 97/100\n",
      "38/38 [==============================] - 6s 150ms/step - loss: 0.0014\n",
      "Epoch 98/100\n",
      "38/38 [==============================] - 6s 148ms/step - loss: 0.0018\n",
      "Epoch 99/100\n"
     ]
    },
    {
     "name": "stdout",
     "output_type": "stream",
     "text": [
      "38/38 [==============================] - 6s 155ms/step - loss: 0.0015\n",
      "Epoch 100/100\n",
      "38/38 [==============================] - 6s 151ms/step - loss: 0.0018\n"
     ]
    },
    {
     "data": {
      "text/plain": [
       "<keras.callbacks.History at 0x1cc2cd54b20>"
      ]
     },
     "execution_count": 18,
     "metadata": {},
     "output_type": "execute_result"
    }
   ],
   "source": [
    "regressor.fit(X_train, y_train, epochs = 100, batch_size = 32)"
   ]
  },
  {
   "cell_type": "markdown",
   "id": "e31daee1",
   "metadata": {},
   "source": [
    "## PART 3 - MAKE PREDICTIONS AND VISUALIZING THE RESULT"
   ]
  },
  {
   "cell_type": "markdown",
   "id": "48250c22",
   "metadata": {},
   "source": [
    "### Importing the Test Set as a dataFrame"
   ]
  },
  {
   "cell_type": "code",
   "execution_count": 19,
   "id": "fc7d30f5",
   "metadata": {},
   "outputs": [
    {
     "name": "stdout",
     "output_type": "stream",
     "text": [
      "[[778.81]\n",
      " [788.36]\n",
      " [786.08]\n",
      " [795.26]\n",
      " [806.4 ]\n",
      " [807.86]\n",
      " [805.  ]\n",
      " [807.14]\n",
      " [807.48]\n",
      " [807.08]\n",
      " [805.81]\n",
      " [805.12]\n",
      " [806.91]\n",
      " [807.25]\n",
      " [822.3 ]\n",
      " [829.62]\n",
      " [837.81]\n",
      " [834.71]\n",
      " [814.66]\n",
      " [796.86]]\n"
     ]
    }
   ],
   "source": [
    "dataset_test = pd.read_csv(\"Google_Stock_Price_Test.csv\")\n",
    "\n",
    "# Conversion to 2D - Numpy array is mandatory.\n",
    "real_stock_price = dataset_test.iloc[:, 1:2].values\n",
    "\n",
    "print(real_stock_price)"
   ]
  },
  {
   "cell_type": "markdown",
   "id": "9109d6a9",
   "metadata": {},
   "source": [
    "### Getting the predicted stock price of 2017"
   ]
  },
  {
   "cell_type": "code",
   "execution_count": 20,
   "id": "fe93190a",
   "metadata": {},
   "outputs": [
    {
     "name": "stdout",
     "output_type": "stream",
     "text": [
      "[[0.9299055 ]\n",
      " [0.93113327]\n",
      " [0.92750577]\n",
      " [0.94415507]\n",
      " [0.93876032]\n",
      " [0.93403527]\n",
      " [0.93483518]\n",
      " [0.9313937 ]\n",
      " [0.94636878]\n",
      " [0.96569685]\n",
      " [0.97510976]\n",
      " [0.95966962]\n",
      " [0.97808617]\n",
      " [1.        ]\n",
      " [0.98076494]\n",
      " [0.97083116]\n",
      " [0.98450406]\n",
      " [0.96054394]\n",
      " [0.9371419 ]\n",
      " [0.92841729]\n",
      " [0.90804747]\n",
      " [0.8771858 ]\n",
      " [0.92153434]\n",
      " [0.93809063]\n",
      " [0.93165414]\n",
      " [0.95254483]\n",
      " [0.88812412]\n",
      " [0.88637547]\n",
      " [0.87032145]\n",
      " [0.88563137]\n",
      " [0.90743359]\n",
      " [0.91571173]\n",
      " [0.89941588]\n",
      " [0.91805566]\n",
      " [0.9089404 ]\n",
      " [0.9024853 ]\n",
      " [0.89456061]\n",
      " [0.91600938]\n",
      " [0.9132934 ]\n",
      " [0.88979835]\n",
      " [0.86589404]\n",
      " [0.89030062]\n",
      " [0.90335962]\n",
      " [0.89642086]\n",
      " [0.91777662]\n",
      " [0.93176576]\n",
      " [0.94114145]\n",
      " [0.95762334]\n",
      " [0.96413424]\n",
      " [0.96402262]\n",
      " [0.96971501]\n",
      " [0.95077759]\n",
      " [0.96294367]\n",
      " [0.96123223]\n",
      " [0.95475854]\n",
      " [0.95204256]\n",
      " [0.95163331]\n",
      " [0.95725128]\n",
      " [0.93796041]\n",
      " [0.93688146]\n",
      " [0.92955205]\n",
      " [0.94731751]\n",
      " [0.94307612]\n",
      " [0.96015329]\n",
      " [0.98087655]\n",
      " [0.98359253]\n",
      " [0.97827219]\n",
      " [0.98225314]\n",
      " [0.98288563]\n",
      " [0.98214153]\n",
      " [0.979779  ]\n",
      " [0.97849542]\n",
      " [0.98182528]\n",
      " [0.98245777]\n",
      " [1.01045465]\n",
      " [1.02407173]\n",
      " [1.03930724]\n",
      " [1.03354044]\n",
      " [0.99624228]\n",
      " [0.9631297 ]]\n"
     ]
    }
   ],
   "source": [
    "# Axis = 0 -> Vertical Concatenation\n",
    "dataset_total = pd.concat((dataset_train['Open'], dataset_test['Open']), axis = 0)\n",
    "inputs = dataset_total[len(dataset_total) - len(dataset_test) - 60:].values\n",
    "inputs = inputs.reshape(-1,1)\n",
    "inputs = sc.transform(inputs)\n",
    "\n",
    "print(inputs)"
   ]
  },
  {
   "cell_type": "code",
   "execution_count": 21,
   "id": "11a2a9b4",
   "metadata": {},
   "outputs": [
    {
     "name": "stdout",
     "output_type": "stream",
     "text": [
      "[[[0.9299055 ]\n",
      "  [0.93113327]\n",
      "  [0.92750577]\n",
      "  ...\n",
      "  [0.95725128]\n",
      "  [0.93796041]\n",
      "  [0.93688146]]\n",
      "\n",
      " [[0.93113327]\n",
      "  [0.92750577]\n",
      "  [0.94415507]\n",
      "  ...\n",
      "  [0.93796041]\n",
      "  [0.93688146]\n",
      "  [0.92955205]]\n",
      "\n",
      " [[0.92750577]\n",
      "  [0.94415507]\n",
      "  [0.93876032]\n",
      "  ...\n",
      "  [0.93688146]\n",
      "  [0.92955205]\n",
      "  [0.94731751]]\n",
      "\n",
      " ...\n",
      "\n",
      " [[0.96054394]\n",
      "  [0.9371419 ]\n",
      "  [0.92841729]\n",
      "  ...\n",
      "  [1.01045465]\n",
      "  [1.02407173]\n",
      "  [1.03930724]]\n",
      "\n",
      " [[0.9371419 ]\n",
      "  [0.92841729]\n",
      "  [0.90804747]\n",
      "  ...\n",
      "  [1.02407173]\n",
      "  [1.03930724]\n",
      "  [1.03354044]]\n",
      "\n",
      " [[0.92841729]\n",
      "  [0.90804747]\n",
      "  [0.8771858 ]\n",
      "  ...\n",
      "  [1.03930724]\n",
      "  [1.03354044]\n",
      "  [0.99624228]]]\n"
     ]
    }
   ],
   "source": [
    "X_test = list()\n",
    "for i in range(60, 80):\n",
    "    X_test.append(inputs[i-60:i, 0])\n",
    "X_test = np.array(X_test)\n",
    "X_test = np.reshape(X_test, (X_test.shape[0], X_test.shape[1], 1))\n",
    "\n",
    "print(X_test)"
   ]
  },
  {
   "cell_type": "markdown",
   "id": "63150faf",
   "metadata": {},
   "source": [
    "### Predicted stock price"
   ]
  },
  {
   "cell_type": "code",
   "execution_count": 22,
   "id": "871309b7",
   "metadata": {},
   "outputs": [
    {
     "name": "stdout",
     "output_type": "stream",
     "text": [
      "[[0.9352591 ]\n",
      " [0.93138087]\n",
      " [0.930145  ]\n",
      " [0.93108547]\n",
      " [0.93533576]\n",
      " [0.9439553 ]\n",
      " [0.95399904]\n",
      " [0.96126175]\n",
      " [0.9651208 ]\n",
      " [0.9663485 ]\n",
      " [0.9659859 ]\n",
      " [0.96475136]\n",
      " [0.9633249 ]\n",
      " [0.96282065]\n",
      " [0.96341634]\n",
      " [0.9687816 ]\n",
      " [0.9788277 ]\n",
      " [0.9917593 ]\n",
      " [1.0023626 ]\n",
      " [1.0027791 ]]\n"
     ]
    }
   ],
   "source": [
    "predicted_stock_price = regressor.predict(X_test)\n",
    "\n",
    "print(predicted_stock_price)"
   ]
  },
  {
   "cell_type": "markdown",
   "id": "72c846ab",
   "metadata": {},
   "source": [
    "### Inverse transform the stock prices"
   ]
  },
  {
   "cell_type": "code",
   "execution_count": 23,
   "id": "5a07306e",
   "metadata": {},
   "outputs": [
    {
     "name": "stdout",
     "output_type": "stream",
     "text": [
      "[[781.87787]\n",
      " [779.7931 ]\n",
      " [779.1287 ]\n",
      " [779.6343 ]\n",
      " [781.91907]\n",
      " [786.5526 ]\n",
      " [791.9517 ]\n",
      " [795.85583]\n",
      " [797.9303 ]\n",
      " [798.5903 ]\n",
      " [798.3953 ]\n",
      " [797.7317 ]\n",
      " [796.9649 ]\n",
      " [796.69385]\n",
      " [797.01404]\n",
      " [799.8982 ]\n",
      " [805.2986 ]\n",
      " [812.2501 ]\n",
      " [817.95   ]\n",
      " [818.17395]]\n"
     ]
    }
   ],
   "source": [
    "predicted_stock_price = sc.inverse_transform(predicted_stock_price)\n",
    "\n",
    "print(predicted_stock_price)"
   ]
  },
  {
   "cell_type": "markdown",
   "id": "d226cf80",
   "metadata": {},
   "source": [
    "### Visualising the results"
   ]
  },
  {
   "cell_type": "code",
   "execution_count": 24,
   "id": "659bfa9f",
   "metadata": {},
   "outputs": [
    {
     "data": {
      "image/png": "[encoded data removed]",
      "text/plain": [
       "<Figure size 432x288 with 1 Axes>"
      ]
     },
     "metadata": {
      "needs_background": "light"
     },
     "output_type": "display_data"
    }
   ],
   "source": [
    "plt.plot(real_stock_price, color = 'red', label = 'Real Google Stock Price')\n",
    "plt.plot(predicted_stock_price, color = 'blue', label = 'Predicted Google Stock Price')\n",
    "\n",
    "plt.title('Google Stock Price Prediction')\n",
    "plt.xlabel('Time')\n",
    "plt.ylabel('Google Stock Price')\n",
    "plt.legend()\n",
    "plt.show()"
   ]
  },
  {
   "cell_type": "markdown",
   "id": "bf5288ce",
   "metadata": {},
   "source": [
    "# EVALUATING THE RNN\n",
    "\n",
    "The RNN we built was a regressor. Indeed, we were dealing with Regression because we were trying to predict a continuous\n",
    "outcome (the Google Stock Price). For Regression, the way to evaluate the model performance is with a metric called RMSE\n",
    "(Root Mean Squared Error). It is calculated as the root of the mean of the squared differences between the predictions and the\n",
    "real values.\n",
    "\n",
    "However for our specific Stock Price Prediction problem, evaluating the model with the RMSE does not make much sense, since\n",
    "we are more interested in the directions taken by our predictions, rather than the closeness of their values to the real \n",
    "stock price. We want to check if our predictions follow the same directions as the real stock price and we don’t really care\n",
    "whether our predictions are close the real stock price. The predictions could indeed be close but often taking the opposite\n",
    "direction from the real stock price."
   ]
  },
  {
   "cell_type": "code",
   "execution_count": 25,
   "id": "db79da57",
   "metadata": {},
   "outputs": [],
   "source": [
    "# The code that computes the RMSE for our Stock Price Prediction problem is - \n",
    "\n",
    "import math\n",
    "from sklearn.metrics import mean_squared_error\n",
    "rmse = math.sqrt(mean_squared_error(real_stock_price, predicted_stock_price))\n",
    "\n",
    "# Then consider dividing this RMSE by the range of the Google Stock Price values of January 2017 (that is around 800) to get a\n",
    "# relative error, as opposed to an absolute error. It is more relevant since for example if you get an RMSE of 50, then this \n",
    "# error would be very big if the stock price values ranged around 100, but it would be very small if the stock price values \n",
    "# ranged around 10000."
   ]
  },
  {
   "cell_type": "markdown",
   "id": "70a69061",
   "metadata": {},
   "source": [
    "# IMPROVING THE RNN\n",
    "1. Getting more training data: we trained our model on the past 5 years of the Google Stock Price but it would be even better \n",
    "    to train it on the past 10 years.\n",
    "2. Increasing the number of timesteps: the model remembered the stock prices from the 60 previous financial days to predict \n",
    "    the stock price of the next day. That’s because we chose a number of 60 timesteps (3 months). You could try to increase \n",
    "    the number of timesteps, by choosing for example 120 timesteps (6 months).\n",
    "3. Adding some other indicators: if you have the financial instinct that the stock price of some other companies might be \n",
    "    correlated to the one of Google, you could add this other stock price as a new indicator in the training data.\n",
    "4. Adding more LSTM layers: we built a RNN with four LSTM layers but you could try with even more.\n",
    "5. Adding more neurones in the LSTM layers: we highlighted the fact that we needed a high number of neurones in the LSTM layers\n",
    "    to respond better to the complexity of the problem and we chose to include 50 neurones in each of our 4 LSTM layers. \n",
    "    You could try an architecture with even more neurones in each of the 4 (or more) LSTM layers."
   ]
  },
  {
   "cell_type": "code",
   "execution_count": null,
   "id": "eca8d9c5",
   "metadata": {},
   "outputs": [],
   "source": []
  }
 ],
 "metadata": {
  "kernelspec": {
   "display_name": "Python 3 (ipykernel)",
   "language": "python",
   "name": "python3"
  },
  "language_info": {
   "codemirror_mode": {
    "name": "ipython",
    "version": 3
   },
   "file_extension": ".py",
   "mimetype": "text/x-python",
   "name": "python",
   "nbconvert_exporter": "python",
   "pygments_lexer": "ipython3",
   "version": "3.8.8"
  }
 },
 "nbformat": 4,
 "nbformat_minor": 5
}
