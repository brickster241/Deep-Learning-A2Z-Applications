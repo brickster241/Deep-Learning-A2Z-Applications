{
 "cells": [
  {
   "cell_type": "code",
   "execution_count": 1,
   "id": "3c65fe64",
   "metadata": {},
   "outputs": [],
   "source": [
    "# Convolutional Neural Network to predict Dogs and Cats."
   ]
  },
  {
   "cell_type": "code",
   "execution_count": 2,
   "id": "619f6ddf",
   "metadata": {},
   "outputs": [
    {
     "name": "stderr",
     "output_type": "stream",
     "text": [
      "c:\\users\\ashv6\\pycharmprojects\\dl\\venv\\lib\\site-packages\\numpy\\_distributor_init.py:30: UserWarning: loaded more than 1 DLL from .libs:\n",
      "c:\\users\\ashv6\\pycharmprojects\\dl\\venv\\lib\\site-packages\\numpy\\.libs\\libopenblas.WCDJNK7YVMPZQ2ME2ZZHJJRJ3JIKNDB7.gfortran-win_amd64.dll\n",
      "c:\\users\\ashv6\\pycharmprojects\\dl\\venv\\lib\\site-packages\\numpy\\.libs\\libopenblas.XWYDX2IKJW2NMTWSFYNGFUWKQU3LYTCZ.gfortran-win_amd64.dll\n",
      "  warnings.warn(\"loaded more than 1 DLL from .libs:\"\n"
     ]
    }
   ],
   "source": [
    "# Import the libraries\n",
    "import tensorflow as tf\n",
    "from keras.preprocessing.image import ImageDataGenerator"
   ]
  },
  {
   "cell_type": "code",
   "execution_count": 3,
   "id": "c698d163",
   "metadata": {},
   "outputs": [
    {
     "data": {
      "text/plain": [
       "'2.5.0'"
      ]
     },
     "execution_count": 3,
     "metadata": {},
     "output_type": "execute_result"
    }
   ],
   "source": [
    "tf.__version__"
   ]
  },
  {
   "cell_type": "code",
   "execution_count": 4,
   "id": "98f34990",
   "metadata": {},
   "outputs": [],
   "source": [
    "# PART 1 - DATA PREPROCESSING"
   ]
  },
  {
   "cell_type": "code",
   "execution_count": 5,
   "id": "310a8e40",
   "metadata": {},
   "outputs": [
    {
     "name": "stdout",
     "output_type": "stream",
     "text": [
      "Found 8000 images belonging to 2 classes.\n"
     ]
    }
   ],
   "source": [
    "# Pre - Processing the Training Set of images\n",
    "# Image Augmentation to avoid overfilling\n",
    "\n",
    "# rescale - Feature scaling to get values between 0 to 1\n",
    "# shear_range, zoom_range, horizontal_flip - image transformations\n",
    "\n",
    "train_datagen = ImageDataGenerator(\n",
    "                    rescale=1./255,\n",
    "                    shear_range=0.2,\n",
    "                    zoom_range=0.2,\n",
    "                    horizontal_flip=True)\n",
    "\n",
    "# target_size will be the final size of image.\n",
    "# class_mode = Binary / Categorical\n",
    "\n",
    "training_set = train_datagen.flow_from_directory(\n",
    "                        'dataset/training_set',\n",
    "                        target_size=(64, 64),\n",
    "                        batch_size=32,\n",
    "                        class_mode='binary')"
   ]
  },
  {
   "cell_type": "code",
   "execution_count": 6,
   "id": "13cb5767",
   "metadata": {},
   "outputs": [
    {
     "name": "stdout",
     "output_type": "stream",
     "text": [
      "Found 2000 images belonging to 2 classes.\n"
     ]
    }
   ],
   "source": [
    "# Pre - Processing the Test set of images\n",
    "test_datagen = ImageDataGenerator(rescale=1./255)\n",
    "test_set = test_datagen.flow_from_directory(\n",
    "                        'dataset/test_set',\n",
    "                        target_size=(64, 64),\n",
    "                        batch_size=32,\n",
    "                        class_mode='binary')"
   ]
  },
  {
   "cell_type": "code",
   "execution_count": 7,
   "id": "7bc6a3d6",
   "metadata": {},
   "outputs": [],
   "source": [
    "# PART 2 - BUILDING THE CNN"
   ]
  },
  {
   "cell_type": "code",
   "execution_count": 8,
   "id": "bf7ff576",
   "metadata": {},
   "outputs": [
    {
     "data": {
      "text/plain": [
       "<tensorflow.python.keras.engine.sequential.Sequential at 0x1bcdf60cc10>"
      ]
     },
     "execution_count": 8,
     "metadata": {},
     "output_type": "execute_result"
    }
   ],
   "source": [
    "# Initialising the CNN\n",
    "CNN = tf.keras.models.Sequential()\n",
    "CNN"
   ]
  },
  {
   "cell_type": "code",
   "execution_count": 9,
   "id": "df38f012",
   "metadata": {},
   "outputs": [],
   "source": [
    "# Step 1 - Convolution \n",
    "CNN.add(tf.keras.layers.Conv2D(filters=32, kernel_size=3, activation=\"relu\", input_shape=[64, 64, 3]))"
   ]
  },
  {
   "cell_type": "code",
   "execution_count": 10,
   "id": "58354d47",
   "metadata": {},
   "outputs": [],
   "source": [
    "# Step 2 - Apply max Pooling\n",
    "CNN.add(tf.keras.layers.MaxPool2D(pool_size=2, strides=2))"
   ]
  },
  {
   "cell_type": "code",
   "execution_count": 11,
   "id": "ef28456a",
   "metadata": {},
   "outputs": [],
   "source": [
    "# ADD A SECOND CONVOLUTIONAL LAYER\n",
    "CNN.add(tf.keras.layers.Conv2D(filters=32, kernel_size=3, activation=\"relu\"))\n",
    "CNN.add(tf.keras.layers.MaxPool2D(pool_size=2, strides=2))"
   ]
  },
  {
   "cell_type": "code",
   "execution_count": 12,
   "id": "9f012c16",
   "metadata": {},
   "outputs": [],
   "source": [
    "# Step 3 - Flattening\n",
    "CNN.add(tf.keras.layers.Flatten())"
   ]
  },
  {
   "cell_type": "code",
   "execution_count": 13,
   "id": "c52827e6",
   "metadata": {},
   "outputs": [],
   "source": [
    "# Step 4 - Full Connection - Add a ANN to this CNN\n",
    "CNN.add(tf.keras.layers.Dense(units=128, activation=\"relu\"))"
   ]
  },
  {
   "cell_type": "code",
   "execution_count": 14,
   "id": "9ae5f2bf",
   "metadata": {},
   "outputs": [],
   "source": [
    "# Step 5 - Add the Output Layer\n",
    "CNN.add(tf.keras.layers.Dense(units=1, activation=\"sigmoid\"))"
   ]
  },
  {
   "cell_type": "code",
   "execution_count": 15,
   "id": "ad6a9029",
   "metadata": {},
   "outputs": [],
   "source": [
    "# PART 3 - TRAINING THE CNN"
   ]
  },
  {
   "cell_type": "code",
   "execution_count": 16,
   "id": "4a3218fc",
   "metadata": {},
   "outputs": [],
   "source": [
    "# Compiling the CNN\n",
    "CNN.compile(optimizer=\"adam\", loss=\"binary_crossentropy\", metrics=[\"accuracy\"])"
   ]
  },
  {
   "cell_type": "code",
   "execution_count": 17,
   "id": "27494e5f",
   "metadata": {},
   "outputs": [
    {
     "name": "stdout",
     "output_type": "stream",
     "text": [
      "Epoch 1/25\n",
      "250/250 [==============================] - 244s 956ms/step - loss: 0.6760 - accuracy: 0.5720 - val_loss: 0.6318 - val_accuracy: 0.6670\n",
      "Epoch 2/25\n",
      "250/250 [==============================] - 38s 153ms/step - loss: 0.6074 - accuracy: 0.6755 - val_loss: 0.6283 - val_accuracy: 0.6630\n",
      "Epoch 3/25\n",
      "250/250 [==============================] - 40s 159ms/step - loss: 0.5702 - accuracy: 0.7004 - val_loss: 0.6286 - val_accuracy: 0.6705\n",
      "Epoch 4/25\n",
      "250/250 [==============================] - 43s 172ms/step - loss: 0.5374 - accuracy: 0.7264 - val_loss: 0.5238 - val_accuracy: 0.7450\n",
      "Epoch 5/25\n",
      "250/250 [==============================] - 42s 167ms/step - loss: 0.5124 - accuracy: 0.7408 - val_loss: 0.5038 - val_accuracy: 0.7610\n",
      "Epoch 6/25\n",
      "250/250 [==============================] - 42s 166ms/step - loss: 0.4883 - accuracy: 0.7605 - val_loss: 0.4918 - val_accuracy: 0.7640\n",
      "Epoch 7/25\n",
      "250/250 [==============================] - 42s 169ms/step - loss: 0.4676 - accuracy: 0.7781 - val_loss: 0.4758 - val_accuracy: 0.7900\n",
      "Epoch 8/25\n",
      "250/250 [==============================] - 42s 167ms/step - loss: 0.4473 - accuracy: 0.7901 - val_loss: 0.4785 - val_accuracy: 0.7725\n",
      "Epoch 9/25\n",
      "250/250 [==============================] - 43s 170ms/step - loss: 0.4360 - accuracy: 0.7956 - val_loss: 0.4817 - val_accuracy: 0.7945\n",
      "Epoch 10/25\n",
      "250/250 [==============================] - 43s 170ms/step - loss: 0.4203 - accuracy: 0.8058 - val_loss: 0.4800 - val_accuracy: 0.7815\n",
      "Epoch 11/25\n",
      "250/250 [==============================] - 39s 154ms/step - loss: 0.4092 - accuracy: 0.8077 - val_loss: 0.5163 - val_accuracy: 0.7570\n",
      "Epoch 12/25\n",
      "250/250 [==============================] - 38s 154ms/step - loss: 0.4002 - accuracy: 0.8151 - val_loss: 0.4943 - val_accuracy: 0.7825\n",
      "Epoch 13/25\n",
      "250/250 [==============================] - 39s 157ms/step - loss: 0.3752 - accuracy: 0.8307 - val_loss: 0.5020 - val_accuracy: 0.7795\n",
      "Epoch 14/25\n",
      "250/250 [==============================] - 40s 159ms/step - loss: 0.3653 - accuracy: 0.8335 - val_loss: 0.5109 - val_accuracy: 0.7830\n",
      "Epoch 15/25\n",
      "250/250 [==============================] - 41s 162ms/step - loss: 0.3513 - accuracy: 0.8401 - val_loss: 0.5005 - val_accuracy: 0.7935\n",
      "Epoch 16/25\n",
      "250/250 [==============================] - 39s 158ms/step - loss: 0.3420 - accuracy: 0.8495 - val_loss: 0.4850 - val_accuracy: 0.7995\n",
      "Epoch 17/25\n",
      "250/250 [==============================] - 35s 141ms/step - loss: 0.3263 - accuracy: 0.8600 - val_loss: 0.5377 - val_accuracy: 0.7690\n",
      "Epoch 18/25\n",
      "250/250 [==============================] - 37s 146ms/step - loss: 0.3092 - accuracy: 0.8626 - val_loss: 0.5350 - val_accuracy: 0.7625\n",
      "Epoch 19/25\n",
      "250/250 [==============================] - 36s 143ms/step - loss: 0.2946 - accuracy: 0.8740 - val_loss: 0.5438 - val_accuracy: 0.7865\n",
      "Epoch 20/25\n",
      "250/250 [==============================] - 43s 170ms/step - loss: 0.2792 - accuracy: 0.8795 - val_loss: 0.5062 - val_accuracy: 0.7990\n",
      "Epoch 21/25\n",
      "250/250 [==============================] - 44s 176ms/step - loss: 0.2757 - accuracy: 0.8820 - val_loss: 0.5608 - val_accuracy: 0.7770\n",
      "Epoch 22/25\n",
      "250/250 [==============================] - 44s 175ms/step - loss: 0.2520 - accuracy: 0.8942 - val_loss: 0.5744 - val_accuracy: 0.7740\n",
      "Epoch 23/25\n",
      "250/250 [==============================] - 39s 154ms/step - loss: 0.2466 - accuracy: 0.8947 - val_loss: 0.5984 - val_accuracy: 0.7920\n",
      "Epoch 24/25\n",
      "250/250 [==============================] - 37s 150ms/step - loss: 0.2243 - accuracy: 0.9094 - val_loss: 0.6028 - val_accuracy: 0.7690\n",
      "Epoch 25/25\n",
      "250/250 [==============================] - 38s 152ms/step - loss: 0.2143 - accuracy: 0.9137 - val_loss: 0.6028 - val_accuracy: 0.7860\n"
     ]
    },
    {
     "data": {
      "text/plain": [
       "<tensorflow.python.keras.callbacks.History at 0x1bce02042b0>"
      ]
     },
     "execution_count": 17,
     "metadata": {},
     "output_type": "execute_result"
    }
   ],
   "source": [
    "# Training the CNN on the training set and evaluating it on the test set\n",
    "CNN.fit(x=training_set, validation_data=test_set, epochs=25)"
   ]
  },
  {
   "cell_type": "code",
   "execution_count": 19,
   "id": "f647ab88",
   "metadata": {},
   "outputs": [
    {
     "data": {
      "text/plain": [
       "{'cats': 0, 'dogs': 1}"
      ]
     },
     "execution_count": 19,
     "metadata": {},
     "output_type": "execute_result"
    }
   ],
   "source": [
    "import numpy as np\n",
    "from keras.preprocessing import image\n",
    "test_image = image.load_img('dataset/single_prediction/cat_or_dog_1.jpg', target_size = (64, 64))\n",
    "test_image = image.img_to_array(test_image)\n",
    "test_image = np.expand_dims(test_image, axis = 0)\n",
    "result = CNN.predict(test_image)\n",
    "training_set.class_indices"
   ]
  },
  {
   "cell_type": "code",
   "execution_count": 20,
   "id": "079b0261",
   "metadata": {},
   "outputs": [
    {
     "name": "stdout",
     "output_type": "stream",
     "text": [
      "dog\n"
     ]
    }
   ],
   "source": [
    "if result[0][0] > 0.5:\n",
    "  prediction = 'dog'\n",
    "else:\n",
    "  prediction = 'cat'\n",
    "print(prediction)"
   ]
  },
  {
   "cell_type": "code",
   "execution_count": null,
   "id": "003e3b95",
   "metadata": {},
   "outputs": [],
   "source": []
  }
 ],
 "metadata": {
  "kernelspec": {
   "display_name": "Python 3 (ipykernel)",
   "language": "python",
   "name": "python3"
  },
  "language_info": {
   "codemirror_mode": {
    "name": "ipython",
    "version": 3
   },
   "file_extension": ".py",
   "mimetype": "text/x-python",
   "name": "python",
   "nbconvert_exporter": "python",
   "pygments_lexer": "ipython3",
   "version": "3.8.8"
  }
 },
 "nbformat": 4,
 "nbformat_minor": 5
}
