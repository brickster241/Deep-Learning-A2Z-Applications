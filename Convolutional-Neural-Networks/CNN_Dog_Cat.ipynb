{
 "cells": [
  {
   "cell_type": "markdown",
   "id": "bc6478b4",
   "metadata": {},
   "source": [
    "## Convolutional Neural Network to predict Dogs and Cats."
   ]
  },
  {
   "cell_type": "markdown",
   "id": "a7dcc41f",
   "metadata": {},
   "source": [
    "### Import the Libraries"
   ]
  },
  {
   "cell_type": "code",
   "execution_count": 2,
   "id": "619f6ddf",
   "metadata": {},
   "outputs": [],
   "source": [
    "import tensorflow as tf\n",
    "from keras.preprocessing.image import ImageDataGenerator"
   ]
  },
  {
   "cell_type": "code",
   "execution_count": 3,
   "id": "c698d163",
   "metadata": {},
   "outputs": [
    {
     "data": {
      "text/plain": [
       "'2.5.0'"
      ]
     },
     "execution_count": 3,
     "metadata": {},
     "output_type": "execute_result"
    }
   ],
   "source": [
    "tf.__version__"
   ]
  },
  {
   "cell_type": "markdown",
   "id": "32838c67",
   "metadata": {},
   "source": [
    "### PART 1 - DATA PREPROCESSING"
   ]
  },
  {
   "cell_type": "code",
   "execution_count": 4,
   "id": "310a8e40",
   "metadata": {},
   "outputs": [
    {
     "name": "stdout",
     "output_type": "stream",
     "text": [
      "Found 8000 images belonging to 2 classes.\n"
     ]
    }
   ],
   "source": [
    "# Pre - Processing the Training Set of images\n",
    "# Image Augmentation to avoid overfilling\n",
    "\n",
    "# rescale - Feature scaling to get values between 0 to 1\n",
    "# shear_range, zoom_range, horizontal_flip - image transformations\n",
    "\n",
    "train_datagen = ImageDataGenerator(\n",
    "                    rescale=1./255,\n",
    "                    shear_range=0.2,\n",
    "                    zoom_range=0.2,\n",
    "                    horizontal_flip=True)\n",
    "\n",
    "# target_size will be the final size of image.\n",
    "# class_mode = Binary / Categorical\n",
    "\n",
    "training_set = train_datagen.flow_from_directory(\n",
    "                        'dataset/training_set',\n",
    "                        target_size=(64, 64),\n",
    "                        batch_size=32,\n",
    "                        class_mode='binary')"
   ]
  },
  {
   "cell_type": "code",
   "execution_count": 5,
   "id": "13cb5767",
   "metadata": {},
   "outputs": [
    {
     "name": "stdout",
     "output_type": "stream",
     "text": [
      "Found 2000 images belonging to 2 classes.\n"
     ]
    }
   ],
   "source": [
    "# Pre - Processing the Test set of images\n",
    "test_datagen = ImageDataGenerator(rescale=1./255)\n",
    "test_set = test_datagen.flow_from_directory(\n",
    "                        'dataset/test_set',\n",
    "                        target_size=(64, 64),\n",
    "                        batch_size=32,\n",
    "                        class_mode='binary')"
   ]
  },
  {
   "cell_type": "markdown",
   "id": "b3ce7758",
   "metadata": {},
   "source": [
    "### PART 2 - BUILDING THE CNN"
   ]
  },
  {
   "cell_type": "markdown",
   "id": "ca72c26f",
   "metadata": {},
   "source": [
    "#### Initialising the CNN"
   ]
  },
  {
   "cell_type": "code",
   "execution_count": 7,
   "id": "bf7ff576",
   "metadata": {},
   "outputs": [
    {
     "data": {
      "text/plain": [
       "<tensorflow.python.keras.engine.sequential.Sequential at 0x1a17bb866d0>"
      ]
     },
     "execution_count": 7,
     "metadata": {},
     "output_type": "execute_result"
    }
   ],
   "source": [
    "CNN = tf.keras.models.Sequential()\n",
    "CNN"
   ]
  },
  {
   "cell_type": "markdown",
   "id": "784dd038",
   "metadata": {},
   "source": [
    "### Step 1 - Convolution"
   ]
  },
  {
   "cell_type": "code",
   "execution_count": 9,
   "id": "df38f012",
   "metadata": {},
   "outputs": [],
   "source": [
    "CNN.add(tf.keras.layers.Conv2D(filters=32, kernel_size=3, activation=\"relu\", input_shape=[64, 64, 3]))"
   ]
  },
  {
   "cell_type": "markdown",
   "id": "a682fe81",
   "metadata": {},
   "source": [
    "### Step 2 - Apply Max Pooling"
   ]
  },
  {
   "cell_type": "code",
   "execution_count": 10,
   "id": "58354d47",
   "metadata": {},
   "outputs": [],
   "source": [
    "CNN.add(tf.keras.layers.MaxPool2D(pool_size=2, strides=2))"
   ]
  },
  {
   "cell_type": "markdown",
   "id": "31d2da24",
   "metadata": {},
   "source": [
    "### ADD A SECOND CONVOLUTIONAL LAYER"
   ]
  },
  {
   "cell_type": "code",
   "execution_count": 11,
   "id": "ef28456a",
   "metadata": {},
   "outputs": [],
   "source": [
    "CNN.add(tf.keras.layers.Conv2D(filters=32, kernel_size=3, activation=\"relu\"))\n",
    "CNN.add(tf.keras.layers.MaxPool2D(pool_size=2, strides=2))"
   ]
  },
  {
   "cell_type": "markdown",
   "id": "9c28047b",
   "metadata": {},
   "source": [
    "### Step 3 - Flattening"
   ]
  },
  {
   "cell_type": "code",
   "execution_count": 12,
   "id": "9f012c16",
   "metadata": {},
   "outputs": [],
   "source": [
    "CNN.add(tf.keras.layers.Flatten())"
   ]
  },
  {
   "cell_type": "markdown",
   "id": "700d225e",
   "metadata": {},
   "source": [
    "### Step 4 - Full Connection - Add a ANN to this CNN"
   ]
  },
  {
   "cell_type": "code",
   "execution_count": 13,
   "id": "c52827e6",
   "metadata": {},
   "outputs": [],
   "source": [
    "CNN.add(tf.keras.layers.Dense(units=128, activation=\"relu\"))"
   ]
  },
  {
   "cell_type": "markdown",
   "id": "804aaec3",
   "metadata": {},
   "source": [
    "### Step 5 - Add the Output Layer"
   ]
  },
  {
   "cell_type": "code",
   "execution_count": 14,
   "id": "9ae5f2bf",
   "metadata": {},
   "outputs": [],
   "source": [
    "CNN.add(tf.keras.layers.Dense(units=1, activation=\"sigmoid\"))"
   ]
  },
  {
   "cell_type": "markdown",
   "id": "2cab7419",
   "metadata": {},
   "source": [
    "## PART 3 - TRAINING THE CNN"
   ]
  },
  {
   "cell_type": "markdown",
   "id": "1577b46d",
   "metadata": {},
   "source": [
    "### Compiling the CNN"
   ]
  },
  {
   "cell_type": "code",
   "execution_count": 16,
   "id": "4a3218fc",
   "metadata": {},
   "outputs": [],
   "source": [
    "CNN.compile(optimizer=\"adam\", loss=\"binary_crossentropy\", metrics=[\"accuracy\"])"
   ]
  },
  {
   "cell_type": "markdown",
   "id": "ba6e8b8c",
   "metadata": {},
   "source": [
    "### Training the CNN on the training set and evaluating it on the test set"
   ]
  },
  {
   "cell_type": "code",
   "execution_count": 17,
   "id": "27494e5f",
   "metadata": {},
   "outputs": [
    {
     "name": "stdout",
     "output_type": "stream",
     "text": [
      "Epoch 1/25\n",
      "250/250 [==============================] - 181s 717ms/step - loss: 0.6561 - accuracy: 0.6135 - val_loss: 0.5859 - val_accuracy: 0.6930\n",
      "Epoch 2/25\n",
      "250/250 [==============================] - 53s 212ms/step - loss: 0.5788 - accuracy: 0.6961 - val_loss: 0.5242 - val_accuracy: 0.7450\n",
      "Epoch 3/25\n",
      "250/250 [==============================] - 57s 227ms/step - loss: 0.5358 - accuracy: 0.7314 - val_loss: 0.5139 - val_accuracy: 0.7575\n",
      "Epoch 4/25\n",
      "250/250 [==============================] - 56s 225ms/step - loss: 0.5010 - accuracy: 0.7523 - val_loss: 0.5083 - val_accuracy: 0.7700\n",
      "Epoch 5/25\n",
      "250/250 [==============================] - 56s 222ms/step - loss: 0.4724 - accuracy: 0.7686 - val_loss: 0.4536 - val_accuracy: 0.7945\n",
      "Epoch 6/25\n",
      "250/250 [==============================] - 54s 215ms/step - loss: 0.4551 - accuracy: 0.7861 - val_loss: 0.4577 - val_accuracy: 0.7775\n",
      "Epoch 7/25\n",
      "250/250 [==============================] - 54s 216ms/step - loss: 0.4310 - accuracy: 0.7989 - val_loss: 0.4447 - val_accuracy: 0.8015\n",
      "Epoch 8/25\n",
      "250/250 [==============================] - 55s 220ms/step - loss: 0.4155 - accuracy: 0.8064 - val_loss: 0.4376 - val_accuracy: 0.8040\n",
      "Epoch 9/25\n",
      "250/250 [==============================] - 56s 223ms/step - loss: 0.4033 - accuracy: 0.8138 - val_loss: 0.4676 - val_accuracy: 0.7965\n",
      "Epoch 10/25\n",
      "250/250 [==============================] - 59s 238ms/step - loss: 0.3847 - accuracy: 0.8245 - val_loss: 0.4430 - val_accuracy: 0.8110\n",
      "Epoch 11/25\n",
      "250/250 [==============================] - 75s 301ms/step - loss: 0.3730 - accuracy: 0.8286 - val_loss: 0.4266 - val_accuracy: 0.8085\n",
      "Epoch 12/25\n",
      "250/250 [==============================] - 76s 304ms/step - loss: 0.3533 - accuracy: 0.8431 - val_loss: 0.4332 - val_accuracy: 0.8050\n",
      "Epoch 13/25\n",
      "250/250 [==============================] - 75s 301ms/step - loss: 0.3386 - accuracy: 0.8493 - val_loss: 0.4263 - val_accuracy: 0.8240\n",
      "Epoch 14/25\n",
      "250/250 [==============================] - 72s 288ms/step - loss: 0.3315 - accuracy: 0.8524 - val_loss: 0.4410 - val_accuracy: 0.8120\n",
      "Epoch 15/25\n",
      "250/250 [==============================] - 75s 299ms/step - loss: 0.3198 - accuracy: 0.8600 - val_loss: 0.4310 - val_accuracy: 0.8265\n",
      "Epoch 16/25\n",
      "250/250 [==============================] - 73s 293ms/step - loss: 0.3016 - accuracy: 0.8698 - val_loss: 0.4446 - val_accuracy: 0.8280\n",
      "Epoch 17/25\n",
      "250/250 [==============================] - 73s 293ms/step - loss: 0.2845 - accuracy: 0.8765 - val_loss: 0.4174 - val_accuracy: 0.8320\n",
      "Epoch 18/25\n",
      "250/250 [==============================] - 68s 270ms/step - loss: 0.2672 - accuracy: 0.8859 - val_loss: 0.5056 - val_accuracy: 0.8105\n",
      "Epoch 19/25\n",
      "250/250 [==============================] - 55s 221ms/step - loss: 0.2550 - accuracy: 0.8921 - val_loss: 0.5124 - val_accuracy: 0.7960\n",
      "Epoch 20/25\n",
      "250/250 [==============================] - 54s 214ms/step - loss: 0.2413 - accuracy: 0.9016 - val_loss: 0.5007 - val_accuracy: 0.8200\n",
      "Epoch 21/25\n",
      "250/250 [==============================] - 54s 214ms/step - loss: 0.2386 - accuracy: 0.8975 - val_loss: 0.4858 - val_accuracy: 0.8270\n",
      "Epoch 22/25\n",
      "250/250 [==============================] - 54s 216ms/step - loss: 0.2145 - accuracy: 0.9103 - val_loss: 0.5466 - val_accuracy: 0.8095\n",
      "Epoch 23/25\n",
      "250/250 [==============================] - 54s 215ms/step - loss: 0.2021 - accuracy: 0.9187 - val_loss: 0.5196 - val_accuracy: 0.8165\n",
      "Epoch 24/25\n",
      "250/250 [==============================] - 54s 216ms/step - loss: 0.1984 - accuracy: 0.9194 - val_loss: 0.5172 - val_accuracy: 0.8230\n",
      "Epoch 25/25\n",
      "250/250 [==============================] - 54s 216ms/step - loss: 0.1882 - accuracy: 0.9240 - val_loss: 0.5108 - val_accuracy: 0.8190\n"
     ]
    },
    {
     "data": {
      "text/plain": [
       "<tensorflow.python.keras.callbacks.History at 0x1a17d171e50>"
      ]
     },
     "execution_count": 17,
     "metadata": {},
     "output_type": "execute_result"
    }
   ],
   "source": [
    "CNN.fit(x=training_set, validation_data=test_set, epochs=25)"
   ]
  },
  {
   "cell_type": "code",
   "execution_count": 18,
   "id": "f647ab88",
   "metadata": {},
   "outputs": [
    {
     "data": {
      "text/plain": [
       "{'cats': 0, 'dogs': 1}"
      ]
     },
     "execution_count": 18,
     "metadata": {},
     "output_type": "execute_result"
    }
   ],
   "source": [
    "import numpy as np\n",
    "from keras.preprocessing import image\n",
    "test_image = image.load_img('dataset/single_prediction/cat_or_dog_1.jpg', target_size = (64, 64))\n",
    "test_image = image.img_to_array(test_image)\n",
    "test_image = np.expand_dims(test_image, axis = 0)\n",
    "result = CNN.predict(test_image)\n",
    "training_set.class_indices"
   ]
  },
  {
   "cell_type": "code",
   "execution_count": 19,
   "id": "079b0261",
   "metadata": {},
   "outputs": [
    {
     "name": "stdout",
     "output_type": "stream",
     "text": [
      "dog\n"
     ]
    }
   ],
   "source": [
    "if result[0][0] > 0.5:\n",
    "  prediction = 'dog'\n",
    "else:\n",
    "  prediction = 'cat'\n",
    "print(prediction)"
   ]
  },
  {
   "cell_type": "code",
   "execution_count": null,
   "id": "003e3b95",
   "metadata": {},
   "outputs": [],
   "source": []
  }
 ],
 "metadata": {
  "kernelspec": {
   "display_name": "Python 3 (ipykernel)",
   "language": "python",
   "name": "python3"
  },
  "language_info": {
   "codemirror_mode": {
    "name": "ipython",
    "version": 3
   },
   "file_extension": ".py",
   "mimetype": "text/x-python",
   "name": "python",
   "nbconvert_exporter": "python",
   "pygments_lexer": "ipython3",
   "version": "3.8.8"
  }
 },
 "nbformat": 4,
 "nbformat_minor": 5
}
