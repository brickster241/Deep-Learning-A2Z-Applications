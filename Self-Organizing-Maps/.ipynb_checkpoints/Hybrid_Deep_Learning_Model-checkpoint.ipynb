{
 "cells": [
  {
   "cell_type": "code",
   "execution_count": 1,
   "id": "5e3c5e63",
   "metadata": {},
   "outputs": [],
   "source": [
    "# IMPLEMENTING A HYBRID DEEP LEARNING MODEL"
   ]
  },
  {
   "cell_type": "code",
   "execution_count": 3,
   "id": "efac1d13",
   "metadata": {},
   "outputs": [],
   "source": [
    "# IMPORT THE LIBRARIES\n",
    "import numpy as np\n",
    "import pandas as pd\n",
    "import matplotlib.pyplot as plt"
   ]
  },
  {
   "cell_type": "code",
   "execution_count": 4,
   "id": "cc068872",
   "metadata": {},
   "outputs": [],
   "source": [
    "# IMPORT THE DATASET\n",
    "dataset = pd.read_csv(\"Credit_Card_Applications.csv\")\n",
    "X = dataset.iloc[:, :-1].values\n",
    "y = dataset.iloc[:, -1].values"
   ]
  },
  {
   "cell_type": "code",
   "execution_count": 5,
   "id": "31669c2b",
   "metadata": {},
   "outputs": [],
   "source": [
    "# print(X, y)"
   ]
  },
  {
   "cell_type": "code",
   "execution_count": 6,
   "id": "59360883",
   "metadata": {},
   "outputs": [],
   "source": [
    "# FEATURE SCALING - USE NORMALIZATION\n",
    "\n",
    "from sklearn.preprocessing import MinMaxScaler\n",
    "sc = MinMaxScaler(feature_range = (0, 1))\n",
    "X = sc.fit_transform(X)\n",
    "\n",
    "# print(X)"
   ]
  },
  {
   "cell_type": "code",
   "execution_count": 9,
   "id": "1966f10c",
   "metadata": {},
   "outputs": [],
   "source": [
    "# IMPLEMENT THE SELF ORGANIZING MAP USING MINISOM\n",
    "\n",
    "from minisom import MiniSom\n",
    "SOM = MiniSom(x = 10, y = 10, input_len = 15, sigma = 1.0, learning_rate = 0.5)\n",
    "\n",
    "# Initialise the weights\n",
    "SOM.random_weights_init(X)\n",
    "\n",
    "# Train the SOM\n",
    "SOM.train_random(data = X, num_iteration = 100)"
   ]
  },
  {
   "cell_type": "code",
   "execution_count": 10,
   "id": "cab3e3a0",
   "metadata": {},
   "outputs": [
    {
     "data": {
      "image/png": "[encoded data removed]",
      "text/plain": [
       "<Figure size 432x288 with 2 Axes>"
      ]
     },
     "metadata": {
      "needs_background": "light"
     },
     "output_type": "display_data"
    }
   ],
   "source": [
    "# VISUALIZING THE RESULTS -> WILL CONTAIN THE WINNING NODE WITH THE MEAN INTERNEURON DISTANCES\n",
    "from pylab import bone, pcolor, colorbar, plot, show\n",
    "\n",
    "# Initialise the Window\n",
    "bone()\n",
    "\n",
    "# To get MIDs, use the distance_map method and transpose the matrix\n",
    "pcolor(SOM.distance_map().T)\n",
    "\n",
    "# Add Legend - High MID corresponds to white color\n",
    "colorbar()\n",
    "\n",
    "markers = ['o', 's']\n",
    "colors = ['r', 'g']\n",
    "for i, x in enumerate(X):\n",
    "    w = SOM.winner(x)\n",
    "    plot(w[0] + 0.5,\n",
    "         w[1] + 0.5,\n",
    "         markers[y[i]],\n",
    "         markeredgecolor = colors[y[i]],\n",
    "         markerfacecolor = 'None',\n",
    "         markersize = 10,\n",
    "         markeredgewidth = 2)\n",
    "\n",
    "show()"
   ]
  },
  {
   "cell_type": "code",
   "execution_count": 11,
   "id": "350e5e45",
   "metadata": {},
   "outputs": [],
   "source": [
    "# FINDING THE FRAUDS\n",
    "\n",
    "mappings = SOM.win_map(X)\n",
    "frauds = np.concatenate((mappings[(4, 8)], mappings[(4, 6)], mappings[(2, 1)], mappings[(6, 6)]), axis = 0)\n",
    "frauds = sc.inverse_transform(frauds)"
   ]
  },
  {
   "cell_type": "code",
   "execution_count": 12,
   "id": "672e8cbd",
   "metadata": {},
   "outputs": [
    {
     "name": "stdout",
     "output_type": "stream",
     "text": [
      "Fraud Customer IDs\n",
      "15761158\n",
      "15761733\n",
      "15766734\n",
      "15785339\n",
      "15678210\n",
      "15664615\n",
      "15607986\n",
      "15716276\n",
      "15578722\n",
      "15762392\n",
      "15591107\n",
      "15767264\n",
      "15761854\n",
      "15815040\n",
      "15788442\n",
      "15633944\n",
      "15801072\n",
      "15573798\n",
      "15647295\n",
      "15803378\n",
      "15714087\n",
      "15730793\n",
      "15788776\n",
      "15746995\n",
      "15764444\n",
      "15731989\n",
      "15771409\n",
      "15777893\n"
     ]
    }
   ],
   "source": [
    "# PRINTING THE FRAUD CLIENTS\n",
    "\n",
    "print('Fraud Customer IDs')\n",
    "for i in frauds[:, 0]:\n",
    "  print(int(i))"
   ]
  },
  {
   "cell_type": "code",
   "execution_count": 13,
   "id": "63e3a2d9",
   "metadata": {},
   "outputs": [],
   "source": [
    "# PART 2 - GOING FROM UNSUPERVISED TO SUPERVISED DEEP LEARNING"
   ]
  },
  {
   "cell_type": "code",
   "execution_count": 14,
   "id": "e03cb947",
   "metadata": {},
   "outputs": [],
   "source": [
    "# Create Matrix of Features\n",
    "\n",
    "customers = dataset.iloc[:, 1:].values"
   ]
  },
  {
   "cell_type": "code",
   "execution_count": 15,
   "id": "2e07a21e",
   "metadata": {},
   "outputs": [],
   "source": [
    "# Create the Dependent Variable\n",
    "\n",
    "is_fraud = np.zeros(len(dataset))\n",
    "for i in range(len(dataset)):\n",
    "    if dataset.iloc[i, 0] in frauds:\n",
    "        is_fraud[i] = 1\n",
    "        \n",
    "# print(is_fraud)"
   ]
  },
  {
   "cell_type": "code",
   "execution_count": 16,
   "id": "95823c89",
   "metadata": {},
   "outputs": [],
   "source": [
    "# PART 3 - ARTIFICIAL NEURAL NETWORK"
   ]
  },
  {
   "cell_type": "code",
   "execution_count": 17,
   "id": "8493c715",
   "metadata": {},
   "outputs": [],
   "source": [
    "# Feature Scaling\n",
    "\n",
    "from sklearn.preprocessing import StandardScaler\n",
    "sc = StandardScaler()\n",
    "customers = sc.fit_transform(customers)\n",
    "\n",
    "# print(customers)"
   ]
  },
  {
   "cell_type": "code",
   "execution_count": 18,
   "id": "350a1e24",
   "metadata": {},
   "outputs": [],
   "source": [
    "# Building the ANN"
   ]
  },
  {
   "cell_type": "code",
   "execution_count": 19,
   "id": "401f8681",
   "metadata": {},
   "outputs": [],
   "source": [
    "# Import tensorflow\n",
    "import tensorflow as tf\n",
    "\n",
    "# Initialize the ANN\n",
    "ANN = tf.keras.models.Sequential()"
   ]
  },
  {
   "cell_type": "code",
   "execution_count": 21,
   "id": "b80fac94",
   "metadata": {},
   "outputs": [],
   "source": [
    "# Adding the Input Layer and first Hidden Layer\n",
    "ANN.add(tf.keras.layers.Dense(units = 2, activation = 'relu', kernel_initializer = 'uniform', input_dim = 15))"
   ]
  },
  {
   "cell_type": "code",
   "execution_count": 22,
   "id": "ab28c13a",
   "metadata": {},
   "outputs": [],
   "source": [
    "# Adding the Output Layer\n",
    "ANN.add(tf.keras.layers.Dense(units = 1, activation = 'sigmoid', kernel_initializer = 'uniform'))"
   ]
  },
  {
   "cell_type": "code",
   "execution_count": 23,
   "id": "b14136b3",
   "metadata": {},
   "outputs": [],
   "source": [
    "# Compiling the ANN\n",
    "ANN.compile(optimizer = 'adam', loss = 'binary_crossentropy', metrics = ['accuracy'])"
   ]
  },
  {
   "cell_type": "code",
   "execution_count": 24,
   "id": "44716d48",
   "metadata": {},
   "outputs": [
    {
     "name": "stdout",
     "output_type": "stream",
     "text": [
      "Epoch 1/10\n",
      "690/690 [==============================] - 2s 2ms/step - loss: 0.4632 - accuracy: 0.9551\n",
      "Epoch 2/10\n",
      "690/690 [==============================] - 2s 3ms/step - loss: 0.2162 - accuracy: 0.9594\n",
      "Epoch 3/10\n",
      "690/690 [==============================] - 2s 3ms/step - loss: 0.1814 - accuracy: 0.9594\n",
      "Epoch 4/10\n",
      "690/690 [==============================] - 2s 3ms/step - loss: 0.1695 - accuracy: 0.9594\n",
      "Epoch 5/10\n",
      "690/690 [==============================] - 2s 3ms/step - loss: 0.1639 - accuracy: 0.9594\n",
      "Epoch 6/10\n",
      "690/690 [==============================] - 2s 4ms/step - loss: 0.1593 - accuracy: 0.9594\n",
      "Epoch 7/10\n",
      "690/690 [==============================] - 2s 3ms/step - loss: 0.1556 - accuracy: 0.9594\n",
      "Epoch 8/10\n",
      "690/690 [==============================] - 2s 3ms/step - loss: 0.1535 - accuracy: 0.9594\n",
      "Epoch 9/10\n",
      "690/690 [==============================] - 2s 3ms/step - loss: 0.1519 - accuracy: 0.9594\n",
      "Epoch 10/10\n",
      "690/690 [==============================] - 2s 3ms/step - loss: 0.1503 - accuracy: 0.9594\n"
     ]
    },
    {
     "data": {
      "text/plain": [
       "<tensorflow.python.keras.callbacks.History at 0x1d848ee5c10>"
      ]
     },
     "execution_count": 24,
     "metadata": {},
     "output_type": "execute_result"
    }
   ],
   "source": [
    "# Training the ANN on the Training set\n",
    "ANN.fit(customers, is_fraud, batch_size = 1, epochs = 10)"
   ]
  },
  {
   "cell_type": "code",
   "execution_count": 27,
   "id": "7f5db889",
   "metadata": {},
   "outputs": [],
   "source": [
    "# Predicting the Probabilites of Frauds\n",
    "y_pred = ANN.predict(customers)\n",
    "\n",
    "# Concatenate Customer IDs with their probabilities\n",
    "y_pred = np.concatenate((dataset.iloc[:, 0:1].values, y_pred), axis = 1)\n",
    "\n",
    "# Sort the predictions according to probabilities\n",
    "y_pred = y_pred[y_pred[:, 1].argsort()]"
   ]
  },
  {
   "cell_type": "code",
   "execution_count": 30,
   "id": "ef189bcc",
   "metadata": {},
   "outputs": [
    {
     "data": {
      "text/html": [
       "<div>\n",
       "<style scoped>\n",
       "    .dataframe tbody tr th:only-of-type {\n",
       "        vertical-align: middle;\n",
       "    }\n",
       "\n",
       "    .dataframe tbody tr th {\n",
       "        vertical-align: top;\n",
       "    }\n",
       "\n",
       "    .dataframe thead th {\n",
       "        text-align: right;\n",
       "    }\n",
       "</style>\n",
       "<table border=\"1\" class=\"dataframe\">\n",
       "  <thead>\n",
       "    <tr style=\"text-align: right;\">\n",
       "      <th></th>\n",
       "      <th>ID</th>\n",
       "      <th>Probability</th>\n",
       "    </tr>\n",
       "  </thead>\n",
       "  <tbody>\n",
       "    <tr>\n",
       "      <th>1</th>\n",
       "      <td>15645820.0</td>\n",
       "      <td>0.000456</td>\n",
       "    </tr>\n",
       "    <tr>\n",
       "      <th>2</th>\n",
       "      <td>15802869.0</td>\n",
       "      <td>0.000631</td>\n",
       "    </tr>\n",
       "    <tr>\n",
       "      <th>3</th>\n",
       "      <td>15686461.0</td>\n",
       "      <td>0.000725</td>\n",
       "    </tr>\n",
       "    <tr>\n",
       "      <th>4</th>\n",
       "      <td>15665014.0</td>\n",
       "      <td>0.000730</td>\n",
       "    </tr>\n",
       "    <tr>\n",
       "      <th>5</th>\n",
       "      <td>15654625.0</td>\n",
       "      <td>0.000864</td>\n",
       "    </tr>\n",
       "    <tr>\n",
       "      <th>...</th>\n",
       "      <td>...</td>\n",
       "      <td>...</td>\n",
       "    </tr>\n",
       "    <tr>\n",
       "      <th>686</th>\n",
       "      <td>15708714.0</td>\n",
       "      <td>0.119050</td>\n",
       "    </tr>\n",
       "    <tr>\n",
       "      <th>687</th>\n",
       "      <td>15642098.0</td>\n",
       "      <td>0.119050</td>\n",
       "    </tr>\n",
       "    <tr>\n",
       "      <th>688</th>\n",
       "      <td>15598802.0</td>\n",
       "      <td>0.119050</td>\n",
       "    </tr>\n",
       "    <tr>\n",
       "      <th>689</th>\n",
       "      <td>15566495.0</td>\n",
       "      <td>0.119050</td>\n",
       "    </tr>\n",
       "    <tr>\n",
       "      <th>690</th>\n",
       "      <td>15790113.0</td>\n",
       "      <td>0.119050</td>\n",
       "    </tr>\n",
       "  </tbody>\n",
       "</table>\n",
       "<p>690 rows × 2 columns</p>\n",
       "</div>"
      ],
      "text/plain": [
       "             ID  Probability\n",
       "1    15645820.0     0.000456\n",
       "2    15802869.0     0.000631\n",
       "3    15686461.0     0.000725\n",
       "4    15665014.0     0.000730\n",
       "5    15654625.0     0.000864\n",
       "..          ...          ...\n",
       "686  15708714.0     0.119050\n",
       "687  15642098.0     0.119050\n",
       "688  15598802.0     0.119050\n",
       "689  15566495.0     0.119050\n",
       "690  15790113.0     0.119050\n",
       "\n",
       "[690 rows x 2 columns]"
      ]
     },
     "execution_count": 30,
     "metadata": {},
     "output_type": "execute_result"
    }
   ],
   "source": [
    "# Print table of probabilities\n",
    "dataframe = pd.DataFrame(y_pred, columns = ['ID', 'Probability'], index = list(range(1, len(y_pred) + 1)))\n",
    "\n",
    "dataframe"
   ]
  },
  {
   "cell_type": "code",
   "execution_count": null,
   "id": "a2143dd1",
   "metadata": {},
   "outputs": [],
   "source": []
  }
 ],
 "metadata": {
  "kernelspec": {
   "display_name": "Python 3 (ipykernel)",
   "language": "python",
   "name": "python3"
  },
  "language_info": {
   "codemirror_mode": {
    "name": "ipython",
    "version": 3
   },
   "file_extension": ".py",
   "mimetype": "text/x-python",
   "name": "python",
   "nbconvert_exporter": "python",
   "pygments_lexer": "ipython3",
   "version": "3.8.8"
  }
 },
 "nbformat": 4,
 "nbformat_minor": 5
}
