{
 "cells": [
  {
   "cell_type": "code",
   "execution_count": null,
   "id": "520442a9",
   "metadata": {},
   "outputs": [],
   "source": [
    "# IMPLEMENTING SELF ORGANIZING MAPS FOR FRAUD DETECTION"
   ]
  },
  {
   "cell_type": "code",
   "execution_count": null,
   "id": "4f14b569",
   "metadata": {},
   "outputs": [],
   "source": [
    "# IMPORT THE LIBRARIES\n",
    "import numpy as np\n",
    "import pandas as pd\n",
    "import matplotlib.pyplot as plt"
   ]
  },
  {
   "cell_type": "code",
   "execution_count": null,
   "id": "ea2a107f",
   "metadata": {},
   "outputs": [],
   "source": [
    "# IMPORT THE DATASET\n",
    "dataset = pd.read_csv(\"Credit_Card_Applications.csv\")\n",
    "X = dataset.iloc[:, :-1].values\n",
    "y = dataset.iloc[:, -1].values"
   ]
  },
  {
   "cell_type": "code",
   "execution_count": null,
   "id": "e382e132",
   "metadata": {},
   "outputs": [],
   "source": [
    "# print(X, y)"
   ]
  },
  {
   "cell_type": "code",
   "execution_count": null,
   "id": "9003fa39",
   "metadata": {},
   "outputs": [],
   "source": [
    "# FEATURE SCALING - USE NORMALIZATION\n",
    "\n",
    "from sklearn.preprocessing import MinMaxScaler\n",
    "sc = MinMaxScaler(feature_range = (0, 1))\n",
    "X = sc.fit_transform(X)\n",
    "\n",
    "# print(X)"
   ]
  },
  {
   "cell_type": "code",
   "execution_count": null,
   "id": "7dc5631b",
   "metadata": {},
   "outputs": [],
   "source": [
    "# IMPLEMENT THE SELF ORGANIZING MAP USING MINISOM\n",
    "\n",
    "from minisom import MiniSom\n",
    "SOM = MiniSom(x = 15, y = 15, input_len = 15, sigma = 1.0, learning_rate = 0.5)\n",
    "\n",
    "# Initialise the weights\n",
    "SOM.random_weights_init(X)\n",
    "\n",
    "# Train the SOM\n",
    "SOM.train_random(data = X, num_iteration = 100)"
   ]
  },
  {
   "cell_type": "code",
   "execution_count": null,
   "id": "edc6df11",
   "metadata": {},
   "outputs": [],
   "source": [
    "# VISUALIZING THE RESULTS -> WILL CONTAIN THE WINNING NODE WITH THE MEAN INTERNEURON DISTANCES\n",
    "from pylab import bone, pcolor, colorbar, plot, show\n",
    "\n",
    "# Initialise the Window\n",
    "bone()\n",
    "\n",
    "# To get MIDs, use the distance_map method and transpose the matrix\n",
    "pcolor(SOM.distance_map().T)\n",
    "\n",
    "# Add Legend - High MID corresponds to white color\n",
    "colorbar()\n",
    "\n",
    "markers = ['o', 's']\n",
    "colors = ['r', 'g']\n",
    "for i, x in enumerate(X):\n",
    "    w = SOM.winner(x)\n",
    "    plot(w[0] + 0.5,\n",
    "         w[1] + 0.5,\n",
    "         markers[y[i]],\n",
    "         markeredgecolor = colors[y[i]],\n",
    "         markerfacecolor = 'None',\n",
    "         markersize = 10,\n",
    "         markeredgewidth = 2)\n",
    "\n",
    "show()"
   ]
  },
  {
   "cell_type": "code",
   "execution_count": null,
   "id": "ecdf441e",
   "metadata": {},
   "outputs": [],
   "source": [
    "# FINDING THE FRAUDS\n",
    "\n",
    "mappings = SOM.win_map(X)\n",
    "frauds = np.concatenate((mappings[(13, 7)], mappings[(13, 11)]), axis = 0)\n",
    "frauds = sc.inverse_transform(frauds)"
   ]
  },
  {
   "cell_type": "code",
   "execution_count": null,
   "id": "408f2df7",
   "metadata": {},
   "outputs": [],
   "source": [
    "# PRINTING THE FRAUD CLIENTS\n",
    "\n",
    "print('Fraud Customer IDs')\n",
    "for i in frauds[:, 0]:\n",
    "  print(int(i))"
   ]
  },
  {
   "cell_type": "code",
   "execution_count": null,
   "id": "8b27e4c0",
   "metadata": {},
   "outputs": [],
   "source": []
  }
 ],
 "metadata": {
  "kernelspec": {
   "display_name": "Python 3 (ipykernel)",
   "language": "python",
   "name": "python3"
  },
  "language_info": {
   "codemirror_mode": {
    "name": "ipython",
    "version": 3
   },
   "file_extension": ".py",
   "mimetype": "text/x-python",
   "name": "python",
   "nbconvert_exporter": "python",
   "pygments_lexer": "ipython3",
   "version": "3.8.8"
  }
 },
 "nbformat": 4,
 "nbformat_minor": 5
}
